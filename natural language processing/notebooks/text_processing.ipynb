{
 "cells": [
  {
   "cell_type": "markdown",
   "metadata": {},
   "source": [
    "# Text Processing\n",
    "\n",
    "## Capturing Text Data\n",
    "\n",
    "### Plain Text"
   ]
  },
  {
   "cell_type": "code",
   "execution_count": 1,
   "metadata": {},
   "outputs": [
    {
     "name": "stdout",
     "output_type": "stream",
     "text": [
      "Hieroglyphic writing dates from c. 3000 BC, and is composed of hundreds of symbols. A hieroglyph can represent a word, a sound, or a silent determinative; and the same symbol can serve different purposes in different contexts. Hieroglyphs were a formal script, used on stone monuments and in tombs, that could be as detailed as individual works of art.\n",
      "\n"
     ]
    }
   ],
   "source": [
    "import os\n",
    "\n",
    "# Read in a plain text file\n",
    "with open(os.path.join(\"data\", \"hieroglyph.txt\"), \"r\") as f:\n",
    "    text = f.read()\n",
    "    print(text)"
   ]
  },
  {
   "cell_type": "markdown",
   "metadata": {},
   "source": [
    "### Tabular Data"
   ]
  },
  {
   "cell_type": "code",
   "execution_count": 2,
   "metadata": {
    "scrolled": true
   },
   "outputs": [
    {
     "data": {
      "text/html": [
       "<div>\n",
       "<style scoped>\n",
       "    .dataframe tbody tr th:only-of-type {\n",
       "        vertical-align: middle;\n",
       "    }\n",
       "\n",
       "    .dataframe tbody tr th {\n",
       "        vertical-align: top;\n",
       "    }\n",
       "\n",
       "    .dataframe thead th {\n",
       "        text-align: right;\n",
       "    }\n",
       "</style>\n",
       "<table border=\"1\" class=\"dataframe\">\n",
       "  <thead>\n",
       "    <tr style=\"text-align: right;\">\n",
       "      <th></th>\n",
       "      <th>publisher</th>\n",
       "      <th>title</th>\n",
       "    </tr>\n",
       "  </thead>\n",
       "  <tbody>\n",
       "    <tr>\n",
       "      <th>0</th>\n",
       "      <td>Livemint</td>\n",
       "      <td>fed's charles plosser sees high bar for change...</td>\n",
       "    </tr>\n",
       "    <tr>\n",
       "      <th>1</th>\n",
       "      <td>IFA Magazine</td>\n",
       "      <td>us open: stocks fall after fed official hints ...</td>\n",
       "    </tr>\n",
       "    <tr>\n",
       "      <th>2</th>\n",
       "      <td>IFA Magazine</td>\n",
       "      <td>fed risks falling 'behind the curve', charles ...</td>\n",
       "    </tr>\n",
       "    <tr>\n",
       "      <th>3</th>\n",
       "      <td>Moneynews</td>\n",
       "      <td>fed's plosser: nasty weather has curbed job gr...</td>\n",
       "    </tr>\n",
       "    <tr>\n",
       "      <th>4</th>\n",
       "      <td>NASDAQ</td>\n",
       "      <td>plosser: fed may have to accelerate tapering pace</td>\n",
       "    </tr>\n",
       "  </tbody>\n",
       "</table>\n",
       "</div>"
      ],
      "text/plain": [
       "      publisher                                              title\n",
       "0      Livemint  fed's charles plosser sees high bar for change...\n",
       "1  IFA Magazine  us open: stocks fall after fed official hints ...\n",
       "2  IFA Magazine  fed risks falling 'behind the curve', charles ...\n",
       "3     Moneynews  fed's plosser: nasty weather has curbed job gr...\n",
       "4        NASDAQ  plosser: fed may have to accelerate tapering pace"
      ]
     },
     "execution_count": 2,
     "metadata": {},
     "output_type": "execute_result"
    }
   ],
   "source": [
    "import pandas as pd\n",
    "\n",
    "# Extract text column from a dataframe\n",
    "df = pd.read_csv(os.path.join(\"data\", \"news.csv\"))\n",
    "df.head()[['publisher', 'title']]\n",
    "\n",
    "# Convert text column to lowercase\n",
    "df['title'] = df['title'].str.lower()\n",
    "df.head()[['publisher', 'title']]"
   ]
  },
  {
   "cell_type": "markdown",
   "metadata": {},
   "source": [
    "### Online Resource"
   ]
  },
  {
   "cell_type": "code",
   "execution_count": 4,
   "metadata": {
    "scrolled": true
   },
   "outputs": [
    {
     "name": "stdout",
     "output_type": "stream",
     "text": [
      "{\n",
      "    \"message\": \"Not authenticated\"\n",
      "}\n"
     ]
    },
    {
     "ename": "KeyError",
     "evalue": "'contents'",
     "output_type": "error",
     "traceback": [
      "\u001b[0;31m---------------------------------------------------------------------------\u001b[0m",
      "\u001b[0;31mKeyError\u001b[0m                                  Traceback (most recent call last)",
      "\u001b[0;32m<ipython-input-4-e1169bcb5840>\u001b[0m in \u001b[0;36m<module>\u001b[0;34m()\u001b[0m\n\u001b[1;32m      9\u001b[0m \u001b[0;34m\u001b[0m\u001b[0m\n\u001b[1;32m     10\u001b[0m \u001b[0;31m# Extract relevant object and field\u001b[0m\u001b[0;34m\u001b[0m\u001b[0;34m\u001b[0m\u001b[0m\n\u001b[0;32m---> 11\u001b[0;31m \u001b[0mq\u001b[0m \u001b[0;34m=\u001b[0m \u001b[0mres\u001b[0m\u001b[0;34m[\u001b[0m\u001b[0;34m\"contents\"\u001b[0m\u001b[0;34m]\u001b[0m\u001b[0;34m[\u001b[0m\u001b[0;34m\"quotes\"\u001b[0m\u001b[0;34m]\u001b[0m\u001b[0;34m[\u001b[0m\u001b[0;36m0\u001b[0m\u001b[0;34m]\u001b[0m\u001b[0;34m\u001b[0m\u001b[0m\n\u001b[0m\u001b[1;32m     12\u001b[0m \u001b[0mprint\u001b[0m\u001b[0;34m(\u001b[0m\u001b[0mq\u001b[0m\u001b[0;34m[\u001b[0m\u001b[0;34m\"quote\"\u001b[0m\u001b[0;34m]\u001b[0m\u001b[0;34m,\u001b[0m \u001b[0;34m\"\\n--\"\u001b[0m\u001b[0;34m,\u001b[0m \u001b[0mq\u001b[0m\u001b[0;34m[\u001b[0m\u001b[0;34m\"author\"\u001b[0m\u001b[0;34m]\u001b[0m\u001b[0;34m)\u001b[0m\u001b[0;34m\u001b[0m\u001b[0m\n",
      "\u001b[0;31mKeyError\u001b[0m: 'contents'"
     ]
    }
   ],
   "source": [
    "import requests\n",
    "import json\n",
    "\n",
    "# Fetch data from a REST API\n",
    "r = requests.get(\n",
    "    \"https://quotes.rest/qod.json\")\n",
    "res = r.json()\n",
    "print(json.dumps(res, indent=4))\n",
    "\n",
    "# Extract relevant object and field\n",
    "q = res[\"contents\"][\"quotes\"][0]\n",
    "print(q[\"quote\"], \"\\n--\", q[\"author\"])"
   ]
  },
  {
   "cell_type": "markdown",
   "metadata": {},
   "source": [
    "## Cleaning"
   ]
  },
  {
   "cell_type": "code",
   "execution_count": 6,
   "metadata": {
    "scrolled": true
   },
   "outputs": [
    {
     "name": "stdout",
     "output_type": "stream",
     "text": [
      "<html lang=\"en\" op=\"news\"><head><meta name=\"referrer\" content=\"origin\"><meta name=\"viewport\" content=\"width=device-width, initial-scale=1.0\"><link rel=\"stylesheet\" type=\"text/css\" href=\"news.css?CtBHyqNFP5b5B4B6W5uN\">\n",
      "        <link rel=\"shortcut icon\" href=\"favicon.ico\">\n",
      "          <link rel=\"alternate\" type=\"application/rss+xml\" title=\"RSS\" href=\"rss\">\n",
      "        <title>Hacker News</title></head><body><center><table id=\"hnmain\" border=\"0\" cellpadding=\"0\" cellspacing=\"0\" width=\"85%\" bgcolor=\"#f6f6ef\">\n",
      "        <tr><td bgcolor=\"#ff6600\"><table border=\"0\" cellpadding=\"0\" cellspacing=\"0\" width=\"100%\" style=\"padding:2px\"><tr><td style=\"width:18px;padding-right:4px\"><a href=\"https://news.ycombinator.com\"><img src=\"y18.svg\" width=\"18\" height=\"18\" style=\"border:1px white solid; display:block\"></a></td>\n",
      "                  <td style=\"line-height:12pt; height:10px;\"><span class=\"pagetop\"><b class=\"hnname\"><a href=\"news\">Hacker News</a></b>\n",
      "                            <a href=\"newest\">new</a> | <a href=\"front\">past</a> | <a href=\"newcomments\">comments</a> | <a href=\"ask\">ask</a> | <a href=\"show\">show</a> | <a href=\"jobs\">jobs</a> | <a href=\"submit\">submit</a>            </span></td><td style=\"text-align:right;padding-right:4px;\"><span class=\"pagetop\">\n",
      "                              <a href=\"login?goto=news\">login</a>\n",
      "                          </span></td>\n",
      "              </tr></table></td></tr>\n",
      "<tr id=\"pagespace\" title=\"\" style=\"height:10px\"></tr><tr><td><table border=\"0\" cellpadding=\"0\" cellspacing=\"0\">\n",
      "            <tr class='athing' id='37044625'>\n",
      "      <td align=\"right\" valign=\"top\" class=\"title\"><span class=\"rank\">1.</span></td>      <td valign=\"top\" class=\"votelinks\"><center><a id='up_37044625'href='vote?id=37044625&amp;how=up&amp;goto=news'><div class='votearrow' title='upvote'></div></a></center></td><td class=\"title\"><span class=\"titleline\"><a href=\"https://support.mozilla.org/en-US/kb/run-firefox-chromeos\" rel=\"noreferrer\">Run Firefox on ChromeOS</a><span class=\"sitebit comhead\"> (<a href=\"from?site=support.mozilla.org\"><span class=\"sitestr\">support.mozilla.org</span></a>)</span></span></td></tr><tr><td colspan=\"2\"></td><td class=\"subtext\"><span class=\"subline\">\n",
      "          <span class=\"score\" id=\"score_37044625\">105 points</span> by <a href=\"user?id=nateb2022\" class=\"hnuser\">nateb2022</a> <span class=\"age\" title=\"2023-08-08T04:49:15\"><a href=\"item?id=37044625\">3 hours ago</a></span> <span id=\"unv_37044625\"></span> | <a href=\"hide?id=37044625&amp;goto=news\">hide</a> | <a href=\"item?id=37044625\">17&nbsp;comments</a>        </span>\n",
      "              </td></tr>\n",
      "      <tr class=\"spacer\" style=\"height:5px\"></tr>\n",
      "                <tr class='athing' id='37032286'>\n",
      "      <td align=\"right\" valign=\"top\" class=\"title\"><span class=\"rank\">2.</span></td>      <td valign=\"top\" class=\"votelinks\"><center><a id='up_37032286'href='vote?id=37032286&amp;how=up&amp;goto=news'><div class='votearrow' title='upvote'></div></a></center></td><td class=\"title\"><span class=\"titleline\"><a href=\"https://www.alexanderpiano.nz/page/the-alexander-piano\" rel=\"noreferrer\">The Alexander Piano</a><span class=\"sitebit comhead\"> (<a href=\"from?site=alexanderpiano.nz\"><span class=\"sitestr\">alexanderpiano.nz</span></a>)</span></span></td></tr><tr><td colspan=\"2\"></td><td class=\"subtext\"><span class=\"subline\">\n",
      "          <span class=\"score\" id=\"score_37032286\">77 points</span> by <a href=\"user?id=KolmogorovComp\" class=\"hnuser\">KolmogorovComp</a> <span class=\"age\" title=\"2023-08-07T09:41:46\"><a href=\"item?id=37032286\">4 hours ago</a></span> <span id=\"unv_37032286\"></span> | <a href=\"hide?id=37032286&amp;goto=news\">hide</a> | <a href=\"item?id=37032286\">16&nbsp;comments</a>        </span>\n",
      "              </td></tr>\n",
      "      <tr class=\"spacer\" style=\"height:5px\"></tr>\n",
      "                <tr class='athing' id='37042790'>\n",
      "      <td align=\"right\" valign=\"top\" class=\"title\"><span class=\"rank\">3.</span></td>      <td valign=\"top\" class=\"votelinks\"><center><a id='up_37042790'href='vote?id=37042790&amp;how=up&amp;goto=news'><div class='votearrow' title='upvote'></div></a></center></td><td class=\"title\"><span class=\"titleline\"><a href=\"https://www.cancer.columbia.edu/news/cancers-cloaking-device-revealed\" rel=\"noreferrer\">Malignant melanoma deploys elegant molecular mechanism to evade immune responses</a><span class=\"sitebit comhead\"> (<a href=\"from?site=columbia.edu\"><span class=\"sitestr\">columbia.edu</span></a>)</span></span></td></tr><tr><td colspan=\"2\"></td><td class=\"subtext\"><span class=\"subline\">\n",
      "          <span class=\"score\" id=\"score_37042790\">154 points</span> by <a href=\"user?id=geox\" class=\"hnuser\">geox</a> <span class=\"age\" title=\"2023-08-08T00:17:01\"><a href=\"item?id=37042790\">8 hours ago</a></span> <span id=\"unv_37042790\"></span> | <a href=\"hide?id=37042790&amp;goto=news\">hide</a> | <a href=\"item?id=37042790\">47&nbsp;comments</a>        </span>\n",
      "              </td></tr>\n",
      "      <tr class=\"spacer\" style=\"height:5px\"></tr>\n",
      "                <tr class='athing' id='37019396'>\n",
      "      <td align=\"right\" valign=\"top\" class=\"title\"><span class=\"rank\">4.</span></td>      <td valign=\"top\" class=\"votelinks\"><center><a id='up_37019396'href='vote?id=37019396&amp;how=up&amp;goto=news'><div class='votearrow' title='upvote'></div></a></center></td><td class=\"title\"><span class=\"titleline\"><a href=\"https://www.sheldonbrown.com/\" rel=\"noreferrer\">Sheldon Brown&#x27;s Bicycle Technical Info</a><span class=\"sitebit comhead\"> (<a href=\"from?site=sheldonbrown.com\"><span class=\"sitestr\">sheldonbrown.com</span></a>)</span></span></td></tr><tr><td colspan=\"2\"></td><td class=\"subtext\"><span class=\"subline\">\n",
      "          <span class=\"score\" id=\"score_37019396\">97 points</span> by <a href=\"user?id=thunderbong\" class=\"hnuser\">thunderbong</a> <span class=\"age\" title=\"2023-08-06T06:05:14\"><a href=\"item?id=37019396\">6 hours ago</a></span> <span id=\"unv_37019396\"></span> | <a href=\"hide?id=37019396&amp;goto=news\">hide</a> | <a href=\"item?id=37019396\">27&nbsp;comments</a>        </span>\n",
      "              </td></tr>\n",
      "      <tr class=\"spacer\" style=\"height:5px\"></tr>\n",
      "                <tr class='athing' id='37043934'>\n",
      "      <td align=\"right\" valign=\"top\" class=\"title\"><span class=\"rank\">5.</span></td>      <td valign=\"top\" class=\"votelinks\"><center><a id='up_37043934'href='vote?id=37043934&amp;how=up&amp;goto=news'><div class='votearrow' title='upvote'></div></a></center></td><td class=\"title\"><span class=\"titleline\"><a href=\"https://noclip.website\" rel=\"noreferrer\">Noclip.website: A digital museum of video game levels</a><span class=\"sitebit comhead\"> (<a href=\"from?site=noclip.website\"><span class=\"sitestr\">noclip.website</span></a>)</span></span></td></tr><tr><td colspan=\"2\"></td><td class=\"subtext\"><span class=\"subline\">\n",
      "          <span class=\"score\" id=\"score_37043934\">73 points</span> by <a href=\"user?id=mutant_glofish\" class=\"hnuser\">mutant_glofish</a> <span class=\"age\" title=\"2023-08-08T02:55:22\"><a href=\"item?id=37043934\">5 hours ago</a></span> <span id=\"unv_37043934\"></span> | <a href=\"hide?id=37043934&amp;goto=news\">hide</a> | <a href=\"item?id=37043934\">11&nbsp;comments</a>        </span>\n",
      "              </td></tr>\n",
      "      <tr class=\"spacer\" style=\"height:5px\"></tr>\n",
      "                <tr class='athing' id='37040681'>\n",
      "      <td align=\"right\" valign=\"top\" class=\"title\"><span class=\"rank\">6.</span></td>      <td valign=\"top\" class=\"votelinks\"><center><a id='up_37040681'href='vote?id=37040681&amp;how=up&amp;goto=news'><div class='votearrow' title='upvote'></div></a></center></td><td class=\"title\"><span class=\"titleline\"><a href=\"https://buttondown.email/hillelwayne/archive/raku-a-language-for-gremlins/\" rel=\"noreferrer\">Raku: A language for gremlins</a><span class=\"sitebit comhead\"> (<a href=\"from?site=buttondown.email/hillelwayne\"><span class=\"sitestr\">buttondown.email/hillelwayne</span></a>)</span></span></td></tr><tr><td colspan=\"2\"></td><td class=\"subtext\"><span class=\"subline\">\n",
      "          <span class=\"score\" id=\"score_37040681\">302 points</span> by <a href=\"user?id=azhenley\" class=\"hnuser\">azhenley</a> <span class=\"age\" title=\"2023-08-07T20:42:48\"><a href=\"item?id=37040681\">11 hours ago</a></span> <span id=\"unv_37040681\"></span> | <a href=\"hide?id=37040681&amp;goto=news\">hide</a> | <a href=\"item?id=37040681\">141&nbsp;comments</a>        </span>\n",
      "              </td></tr>\n",
      "      <tr class=\"spacer\" style=\"height:5px\"></tr>\n",
      "                <tr class='athing' id='37011282'>\n",
      "      <td align=\"right\" valign=\"top\" class=\"title\"><span class=\"rank\">7.</span></td>      <td valign=\"top\" class=\"votelinks\"><center><a id='up_37011282'href='vote?id=37011282&amp;how=up&amp;goto=news'><div class='votearrow' title='upvote'></div></a></center></td><td class=\"title\"><span class=\"titleline\"><a href=\"https://www.edn.com/the-story-of-jim-keller-and-his-pioneering-work-on-chip-design-and-architecture/\" rel=\"noreferrer\">Jim Keller and his pioneering work on chip design and architecture</a><span class=\"sitebit comhead\"> (<a href=\"from?site=edn.com\"><span class=\"sitestr\">edn.com</span></a>)</span></span></td></tr><tr><td colspan=\"2\"></td><td class=\"subtext\"><span class=\"subline\">\n",
      "          <span class=\"score\" id=\"score_37011282\">35 points</span> by <a href=\"user?id=xrayarx\" class=\"hnuser\">xrayarx</a> <span class=\"age\" title=\"2023-08-05T12:18:16\"><a href=\"item?id=37011282\">3 hours ago</a></span> <span id=\"unv_37011282\"></span> | <a href=\"hide?id=37011282&amp;goto=news\">hide</a> | <a href=\"item?id=37011282\">10&nbsp;comments</a>        </span>\n",
      "              </td></tr>\n",
      "      <tr class=\"spacer\" style=\"height:5px\"></tr>\n",
      "                <tr class='athing' id='37043447'>\n",
      "      <td align=\"right\" valign=\"top\" class=\"title\"><span class=\"rank\">8.</span></td>      <td valign=\"top\" class=\"votelinks\"><center><a id='up_37043447'href='vote?id=37043447&amp;how=up&amp;goto=news'><div class='votearrow' title='upvote'></div></a></center></td><td class=\"title\"><span class=\"titleline\"><a href=\"https://arxiv.org/abs/2308.03110\" rel=\"noreferrer\">Ferromagnetic half levitation of LK-99-like synthetic samples</a><span class=\"sitebit comhead\"> (<a href=\"from?site=arxiv.org\"><span class=\"sitestr\">arxiv.org</span></a>)</span></span></td></tr><tr><td colspan=\"2\"></td><td class=\"subtext\"><span class=\"subline\">\n",
      "          <span class=\"score\" id=\"score_37043447\">242 points</span> by <a href=\"user?id=platz\" class=\"hnuser\">platz</a> <span class=\"age\" title=\"2023-08-08T01:46:55\"><a href=\"item?id=37043447\">6 hours ago</a></span> <span id=\"unv_37043447\"></span> | <a href=\"hide?id=37043447&amp;goto=news\">hide</a> | <a href=\"item?id=37043447\">177&nbsp;comments</a>        </span>\n",
      "              </td></tr>\n",
      "      <tr class=\"spacer\" style=\"height:5px\"></tr>\n",
      "                <tr class='athing' id='37045455'>\n",
      "      <td align=\"right\" valign=\"top\" class=\"title\"><span class=\"rank\">9.</span></td>      <td valign=\"top\" class=\"votelinks\"><center><a id='up_37045455'href='vote?id=37045455&amp;how=up&amp;goto=news'><div class='votearrow' title='upvote'></div></a></center></td><td class=\"title\"><span class=\"titleline\"><a href=\"https://tinloof.com/blog/the-seo-scam-62000-dollars-later\" rel=\"nofollow noreferrer\">An SEO scam: $62k later</a><span class=\"sitebit comhead\"> (<a href=\"from?site=tinloof.com\"><span class=\"sitestr\">tinloof.com</span></a>)</span></span></td></tr><tr><td colspan=\"2\"></td><td class=\"subtext\"><span class=\"subline\">\n",
      "          <span class=\"score\" id=\"score_37045455\">38 points</span> by <a href=\"user?id=tbassetto\" class=\"hnuser\">tbassetto</a> <span class=\"age\" title=\"2023-08-08T06:58:50\"><a href=\"item?id=37045455\">1 hour ago</a></span> <span id=\"unv_37045455\"></span> | <a href=\"hide?id=37045455&amp;goto=news\">hide</a> | <a href=\"item?id=37045455\">18&nbsp;comments</a>        </span>\n",
      "              </td></tr>\n",
      "      <tr class=\"spacer\" style=\"height:5px\"></tr>\n",
      "                <tr class='athing' id='37030743'>\n",
      "      <td align=\"right\" valign=\"top\" class=\"title\"><span class=\"rank\">10.</span></td>      <td valign=\"top\" class=\"votelinks\"><center><a id='up_37030743'href='vote?id=37030743&amp;how=up&amp;goto=news'><div class='votearrow' title='upvote'></div></a></center></td><td class=\"title\"><span class=\"titleline\"><a href=\"https://medium.com/expedia-group-tech/the-importance-of-being-a-code-reviewer-fdbd910fbce7\" rel=\"noreferrer\">The Importance of Being a Code Reviewer</a><span class=\"sitebit comhead\"> (<a href=\"from?site=medium.com/expedia-group-tech\"><span class=\"sitestr\">medium.com/expedia-group-tech</span></a>)</span></span></td></tr><tr><td colspan=\"2\"></td><td class=\"subtext\"><span class=\"subline\">\n",
      "          <span class=\"score\" id=\"score_37030743\">14 points</span> by <a href=\"user?id=kiyanwang\" class=\"hnuser\">kiyanwang</a> <span class=\"age\" title=\"2023-08-07T06:07:32\"><a href=\"item?id=37030743\">2 hours ago</a></span> <span id=\"unv_37030743\"></span> | <a href=\"hide?id=37030743&amp;goto=news\">hide</a> | <a href=\"item?id=37030743\">10&nbsp;comments</a>        </span>\n",
      "              </td></tr>\n",
      "      <tr class=\"spacer\" style=\"height:5px\"></tr>\n",
      "                <tr class='athing' id='37044168'>\n",
      "      <td align=\"right\" valign=\"top\" class=\"title\"><span class=\"rank\">11.</span></td>      <td valign=\"top\" class=\"votelinks\"><center><a id='up_37044168'href='vote?id=37044168&amp;how=up&amp;goto=news'><div class='votearrow' title='upvote'></div></a></center></td><td class=\"title\"><span class=\"titleline\"><a href=\"https://www.aboutchromebooks.com/news/lacros-on-chromebooks-transition-plan-wont-be-quick/\" rel=\"noreferrer\">Lacros on Chromebooks transition plan won’t be quick</a><span class=\"sitebit comhead\"> (<a href=\"from?site=aboutchromebooks.com\"><span class=\"sitestr\">aboutchromebooks.com</span></a>)</span></span></td></tr><tr><td colspan=\"2\"></td><td class=\"subtext\"><span class=\"subline\">\n",
      "          <span class=\"score\" id=\"score_37044168\">42 points</span> by <a href=\"user?id=billybuckwheat\" class=\"hnuser\">billybuckwheat</a> <span class=\"age\" title=\"2023-08-08T03:27:02\"><a href=\"item?id=37044168\">5 hours ago</a></span> <span id=\"unv_37044168\"></span> | <a href=\"hide?id=37044168&amp;goto=news\">hide</a> | <a href=\"item?id=37044168\">24&nbsp;comments</a>        </span>\n",
      "              </td></tr>\n",
      "      <tr class=\"spacer\" style=\"height:5px\"></tr>\n",
      "                <tr class='athing' id='37044820'>\n",
      "      <td align=\"right\" valign=\"top\" class=\"title\"><span class=\"rank\">12.</span></td>      <td valign=\"top\" class=\"votelinks\"><center><a id='up_37044820'href='vote?id=37044820&amp;how=up&amp;goto=news'><div class='votearrow' title='upvote'></div></a></center></td><td class=\"title\"><span class=\"titleline\"><a href=\"https://utcc.utoronto.ca/~cks/space/blog/sysadmin/LogMonitoringTarpit\" rel=\"noreferrer\">Monitoring your logs is mostly a tarpit</a><span class=\"sitebit comhead\"> (<a href=\"from?site=utoronto.ca\"><span class=\"sitestr\">utoronto.ca</span></a>)</span></span></td></tr><tr><td colspan=\"2\"></td><td class=\"subtext\"><span class=\"subline\">\n",
      "          <span class=\"score\" id=\"score_37044820\">20 points</span> by <a href=\"user?id=signa11\" class=\"hnuser\">signa11</a> <span class=\"age\" title=\"2023-08-08T05:21:29\"><a href=\"item?id=37044820\">3 hours ago</a></span> <span id=\"unv_37044820\"></span> | <a href=\"hide?id=37044820&amp;goto=news\">hide</a> | <a href=\"item?id=37044820\">6&nbsp;comments</a>        </span>\n",
      "              </td></tr>\n",
      "      <tr class=\"spacer\" style=\"height:5px\"></tr>\n",
      "                <tr class='athing' id='37040205'>\n",
      "      <td align=\"right\" valign=\"top\" class=\"title\"><span class=\"rank\">13.</span></td>      <td valign=\"top\" class=\"votelinks\"><center><a id='up_37040205'href='vote?id=37040205&amp;how=up&amp;goto=news'><div class='votearrow' title='upvote'></div></a></center></td><td class=\"title\"><span class=\"titleline\"><a href=\"https://phys.org/news/2023-08-true-lithium-revealed.html\" rel=\"noreferrer\">Lithium morphology discovery could lead to safer lithium-metal batteries</a><span class=\"sitebit comhead\"> (<a href=\"from?site=phys.org\"><span class=\"sitestr\">phys.org</span></a>)</span></span></td></tr><tr><td colspan=\"2\"></td><td class=\"subtext\"><span class=\"subline\">\n",
      "          <span class=\"score\" id=\"score_37040205\">171 points</span> by <a href=\"user?id=wglb\" class=\"hnuser\">wglb</a> <span class=\"age\" title=\"2023-08-07T20:03:37\"><a href=\"item?id=37040205\">12 hours ago</a></span> <span id=\"unv_37040205\"></span> | <a href=\"hide?id=37040205&amp;goto=news\">hide</a> | <a href=\"item?id=37040205\">30&nbsp;comments</a>        </span>\n",
      "              </td></tr>\n",
      "      <tr class=\"spacer\" style=\"height:5px\"></tr>\n",
      "                <tr class='athing' id='37030338'>\n",
      "      <td align=\"right\" valign=\"top\" class=\"title\"><span class=\"rank\">14.</span></td>      <td valign=\"top\" class=\"votelinks\"><center><a id='up_37030338'href='vote?id=37030338&amp;how=up&amp;goto=news'><div class='votearrow' title='upvote'></div></a></center></td><td class=\"title\"><span class=\"titleline\"><a href=\"https://www.pbs.org/treasuresoftheworld/a_nav/mona_nav/main_monafrm.html\" rel=\"noreferrer\">Theft of the Mona Lisa  (2000)</a><span class=\"sitebit comhead\"> (<a href=\"from?site=pbs.org\"><span class=\"sitestr\">pbs.org</span></a>)</span></span></td></tr><tr><td colspan=\"2\"></td><td class=\"subtext\"><span class=\"subline\">\n",
      "          <span class=\"score\" id=\"score_37030338\">51 points</span> by <a href=\"user?id=geox\" class=\"hnuser\">geox</a> <span class=\"age\" title=\"2023-08-07T04:59:29\"><a href=\"item?id=37030338\">6 hours ago</a></span> <span id=\"unv_37030338\"></span> | <a href=\"hide?id=37030338&amp;goto=news\">hide</a> | <a href=\"item?id=37030338\">21&nbsp;comments</a>        </span>\n",
      "              </td></tr>\n",
      "      <tr class=\"spacer\" style=\"height:5px\"></tr>\n",
      "                <tr class='athing' id='37038457'>\n",
      "      <td align=\"right\" valign=\"top\" class=\"title\"><span class=\"rank\">15.</span></td>      <td valign=\"top\" class=\"votelinks\"><center><a id='up_37038457'href='vote?id=37038457&amp;how=up&amp;goto=news'><div class='votearrow' title='upvote'></div></a></center></td><td class=\"title\"><span class=\"titleline\"><a href=\"https://developers.redhat.com/articles/2023/08/02/beginners-guide-git-version-control\" rel=\"noreferrer\">A beginner&#x27;s guide to Git version control</a><span class=\"sitebit comhead\"> (<a href=\"from?site=redhat.com\"><span class=\"sitestr\">redhat.com</span></a>)</span></span></td></tr><tr><td colspan=\"2\"></td><td class=\"subtext\"><span class=\"subline\">\n",
      "          <span class=\"score\" id=\"score_37038457\">230 points</span> by <a href=\"user?id=freedude\" class=\"hnuser\">freedude</a> <span class=\"age\" title=\"2023-08-07T18:21:33\"><a href=\"item?id=37038457\">14 hours ago</a></span> <span id=\"unv_37038457\"></span> | <a href=\"hide?id=37038457&amp;goto=news\">hide</a> | <a href=\"item?id=37038457\">196&nbsp;comments</a>        </span>\n",
      "              </td></tr>\n",
      "      <tr class=\"spacer\" style=\"height:5px\"></tr>\n",
      "                <tr class='athing' id='37038908'>\n",
      "      <td align=\"right\" valign=\"top\" class=\"title\"><span class=\"rank\">16.</span></td>      <td valign=\"top\" class=\"votelinks\"><center><a id='up_37038908'href='vote?id=37038908&amp;how=up&amp;goto=news'><div class='votearrow' title='upvote'></div></a></center></td><td class=\"title\"><span class=\"titleline\"><a href=\"https://github.com/diogocapela/flatdraw\">Open-source canvas drawing web app, built using React</a><span class=\"sitebit comhead\"> (<a href=\"from?site=github.com/diogocapela\"><span class=\"sitestr\">github.com/diogocapela</span></a>)</span></span></td></tr><tr><td colspan=\"2\"></td><td class=\"subtext\"><span class=\"subline\">\n",
      "          <span class=\"score\" id=\"score_37038908\">196 points</span> by <a href=\"user?id=capela\" class=\"hnuser\">capela</a> <span class=\"age\" title=\"2023-08-07T18:50:19\"><a href=\"item?id=37038908\">13 hours ago</a></span> <span id=\"unv_37038908\"></span> | <a href=\"hide?id=37038908&amp;goto=news\">hide</a> | <a href=\"item?id=37038908\">46&nbsp;comments</a>        </span>\n",
      "              </td></tr>\n",
      "      <tr class=\"spacer\" style=\"height:5px\"></tr>\n",
      "                <tr class='athing' id='37044673'>\n",
      "      <td align=\"right\" valign=\"top\" class=\"title\"><span class=\"rank\">17.</span></td>      <td valign=\"top\" class=\"votelinks\"><center><a id='up_37044673'href='vote?id=37044673&amp;how=up&amp;goto=news'><div class='votearrow' title='upvote'></div></a></center></td><td class=\"title\"><span class=\"titleline\"><a href=\"https://archive.org/search?query=Richard+Scarry&amp;and%5B%5D=subject%3A%22Richard+Scarry%22\" rel=\"noreferrer\">Richard Scarry Collection: Archive.org</a><span class=\"sitebit comhead\"> (<a href=\"from?site=archive.org\"><span class=\"sitestr\">archive.org</span></a>)</span></span></td></tr><tr><td colspan=\"2\"></td><td class=\"subtext\"><span class=\"subline\">\n",
      "          <span class=\"score\" id=\"score_37044673\">9 points</span> by <a href=\"user?id=getwiththeprog\" class=\"hnuser\">getwiththeprog</a> <span class=\"age\" title=\"2023-08-08T04:56:35\"><a href=\"item?id=37044673\">3 hours ago</a></span> <span id=\"unv_37044673\"></span> | <a href=\"hide?id=37044673&amp;goto=news\">hide</a> | <a href=\"item?id=37044673\">1&nbsp;comment</a>        </span>\n",
      "              </td></tr>\n",
      "      <tr class=\"spacer\" style=\"height:5px\"></tr>\n",
      "                <tr class='athing' id='37040359'>\n",
      "      <td align=\"right\" valign=\"top\" class=\"title\"><span class=\"rank\">18.</span></td>      <td valign=\"top\" class=\"votelinks\"><center><a id='up_37040359'href='vote?id=37040359&amp;how=up&amp;goto=news'><div class='votearrow' title='upvote'></div></a></center></td><td class=\"title\"><span class=\"titleline\"><a href=\"https://www.npmjs.com/package/doculite\" rel=\"noreferrer\">Show HN: Doculite – Use SQLite as a Document Database</a><span class=\"sitebit comhead\"> (<a href=\"from?site=npmjs.com\"><span class=\"sitestr\">npmjs.com</span></a>)</span></span></td></tr><tr><td colspan=\"2\"></td><td class=\"subtext\"><span class=\"subline\">\n",
      "          <span class=\"score\" id=\"score_37040359\">117 points</span> by <a href=\"user?id=thenorthbay\" class=\"hnuser\">thenorthbay</a> <span class=\"age\" title=\"2023-08-07T20:14:34\"><a href=\"item?id=37040359\">12 hours ago</a></span> <span id=\"unv_37040359\"></span> | <a href=\"hide?id=37040359&amp;goto=news\">hide</a> | <a href=\"item?id=37040359\">34&nbsp;comments</a>        </span>\n",
      "              </td></tr>\n",
      "      <tr class=\"spacer\" style=\"height:5px\"></tr>\n",
      "                <tr class='athing' id='37038425'>\n",
      "      <td align=\"right\" valign=\"top\" class=\"title\"><span class=\"rank\">19.</span></td>      <td valign=\"top\" class=\"votelinks\"><center><a id='up_37038425'href='vote?id=37038425&amp;how=up&amp;goto=news'><div class='votearrow' title='upvote'></div></a></center></td><td class=\"title\"><span class=\"titleline\"><a href=\"https://steven-giesel.com/blogPost/2f70d926-ec92-4dfe-b278-18f78078253d\" rel=\"noreferrer\">The combined power of F# and C#</a><span class=\"sitebit comhead\"> (<a href=\"from?site=steven-giesel.com\"><span class=\"sitestr\">steven-giesel.com</span></a>)</span></span></td></tr><tr><td colspan=\"2\"></td><td class=\"subtext\"><span class=\"subline\">\n",
      "          <span class=\"score\" id=\"score_37038425\">184 points</span> by <a href=\"user?id=freedude\" class=\"hnuser\">freedude</a> <span class=\"age\" title=\"2023-08-07T18:19:10\"><a href=\"item?id=37038425\">14 hours ago</a></span> <span id=\"unv_37038425\"></span> | <a href=\"hide?id=37038425&amp;goto=news\">hide</a> | <a href=\"item?id=37038425\">171&nbsp;comments</a>        </span>\n",
      "              </td></tr>\n",
      "      <tr class=\"spacer\" style=\"height:5px\"></tr>\n",
      "                <tr class='athing' id='37033753'>\n",
      "      <td align=\"right\" valign=\"top\" class=\"title\"><span class=\"rank\">20.</span></td>      <td valign=\"top\" class=\"votelinks\"><center><a id='up_37033753'href='vote?id=37033753&amp;how=up&amp;goto=news'><div class='votearrow' title='upvote'></div></a></center></td><td class=\"title\"><span class=\"titleline\"><a href=\"item?id=37033753\">Launch HN: GitStart (YC S19) – Remote junior devs working on production PRs</a></span></td></tr><tr><td colspan=\"2\"></td><td class=\"subtext\"><span class=\"subline\">\n",
      "          <span class=\"score\" id=\"score_37033753\">186 points</span> by <a href=\"user?id=hzia\" class=\"hnuser\">hzia</a> <span class=\"age\" title=\"2023-08-07T12:54:18\"><a href=\"item?id=37033753\">19 hours ago</a></span> <span id=\"unv_37033753\"></span> | <a href=\"hide?id=37033753&amp;goto=news\">hide</a> | <a href=\"item?id=37033753\">165&nbsp;comments</a>        </span>\n",
      "              </td></tr>\n",
      "      <tr class=\"spacer\" style=\"height:5px\"></tr>\n",
      "                <tr class='athing' id='37043122'>\n",
      "      <td align=\"right\" valign=\"top\" class=\"title\"><span class=\"rank\">21.</span></td>      <td><img src=\"s.gif\" height=\"1\" width=\"14\"></td>       <td class=\"title\"><span class=\"titleline\"><a href=\"https://etleap.com/careers/software-engineer/\" rel=\"nofollow noreferrer\">Etleap (YC W13) Is Hiring a Software Engineer (London – OR – San Francisco)</a><span class=\"sitebit comhead\"> (<a href=\"from?site=etleap.com\"><span class=\"sitestr\">etleap.com</span></a>)</span></span></td></tr><tr><td colspan=\"2\"></td><td class=\"subtext\">\n",
      "        <span class=\"age\" title=\"2023-08-08T01:01:14\"><a href=\"item?id=37043122\">7 hours ago</a></span> | <a href=\"hide?id=37043122&amp;goto=news\">hide</a>      </td></tr>\n",
      "      <tr class=\"spacer\" style=\"height:5px\"></tr>\n",
      "                <tr class='athing' id='37038278'>\n",
      "      <td align=\"right\" valign=\"top\" class=\"title\"><span class=\"rank\">22.</span></td>      <td valign=\"top\" class=\"votelinks\"><center><a id='up_37038278'href='vote?id=37038278&amp;how=up&amp;goto=news'><div class='votearrow' title='upvote'></div></a></center></td><td class=\"title\"><span class=\"titleline\"><a href=\"https://aeroxplorer.com/articles/aeroflot-deactivates-brakes-on-nine-aircraft-relies-solely-on-reverse-thrust.php\" rel=\"noreferrer\">Aeroflot deactivates brakes on nine aircraft, relies solely on reverse thrust</a><span class=\"sitebit comhead\"> (<a href=\"from?site=aeroxplorer.com\"><span class=\"sitestr\">aeroxplorer.com</span></a>)</span></span></td></tr><tr><td colspan=\"2\"></td><td class=\"subtext\"><span class=\"subline\">\n",
      "          <span class=\"score\" id=\"score_37038278\">193 points</span> by <a href=\"user?id=nixass\" class=\"hnuser\">nixass</a> <span class=\"age\" title=\"2023-08-07T18:09:50\"><a href=\"item?id=37038278\">14 hours ago</a></span> <span id=\"unv_37038278\"></span> | <a href=\"hide?id=37038278&amp;goto=news\">hide</a> | <a href=\"item?id=37038278\">270&nbsp;comments</a>        </span>\n",
      "              </td></tr>\n",
      "      <tr class=\"spacer\" style=\"height:5px\"></tr>\n",
      "                <tr class='athing' id='37042561'>\n",
      "      <td align=\"right\" valign=\"top\" class=\"title\"><span class=\"rank\">23.</span></td>      <td valign=\"top\" class=\"votelinks\"><center><a id='up_37042561'href='vote?id=37042561&amp;how=up&amp;goto=news'><div class='votearrow' title='upvote'></div></a></center></td><td class=\"title\"><span class=\"titleline\"><a href=\"https://janefriedman.com/i-would-rather-see-my-books-pirated/\" rel=\"noreferrer\">I would rather see my books get pirated than this</a><span class=\"sitebit comhead\"> (<a href=\"from?site=janefriedman.com\"><span class=\"sitestr\">janefriedman.com</span></a>)</span></span></td></tr><tr><td colspan=\"2\"></td><td class=\"subtext\"><span class=\"subline\">\n",
      "          <span class=\"score\" id=\"score_37042561\">474 points</span> by <a href=\"user?id=ilamont\" class=\"hnuser\">ilamont</a> <span class=\"age\" title=\"2023-08-07T23:52:57\"><a href=\"item?id=37042561\">8 hours ago</a></span> <span id=\"unv_37042561\"></span> | <a href=\"hide?id=37042561&amp;goto=news\">hide</a> | <a href=\"item?id=37042561\">310&nbsp;comments</a>        </span>\n",
      "              </td></tr>\n",
      "      <tr class=\"spacer\" style=\"height:5px\"></tr>\n",
      "                <tr class='athing' id='37026757'>\n",
      "      <td align=\"right\" valign=\"top\" class=\"title\"><span class=\"rank\">24.</span></td>      <td valign=\"top\" class=\"votelinks\"><center><a id='up_37026757'href='vote?id=37026757&amp;how=up&amp;goto=news'><div class='votearrow' title='upvote'></div></a></center></td><td class=\"title\"><span class=\"titleline\"><a href=\"https://hirrolot.github.io/posts/compiler-development-rust-or-ocaml.html\" rel=\"noreferrer\">Compiler Development: Rust or OCaml?</a><span class=\"sitebit comhead\"> (<a href=\"from?site=hirrolot.github.io\"><span class=\"sitestr\">hirrolot.github.io</span></a>)</span></span></td></tr><tr><td colspan=\"2\"></td><td class=\"subtext\"><span class=\"subline\">\n",
      "          <span class=\"score\" id=\"score_37026757\">133 points</span> by <a href=\"user?id=bshanks\" class=\"hnuser\">bshanks</a> <span class=\"age\" title=\"2023-08-06T21:05:12\"><a href=\"item?id=37026757\">14 hours ago</a></span> <span id=\"unv_37026757\"></span> | <a href=\"hide?id=37026757&amp;goto=news\">hide</a> | <a href=\"item?id=37026757\">89&nbsp;comments</a>        </span>\n",
      "              </td></tr>\n",
      "      <tr class=\"spacer\" style=\"height:5px\"></tr>\n",
      "                <tr class='athing' id='37019791'>\n",
      "      <td align=\"right\" valign=\"top\" class=\"title\"><span class=\"rank\">25.</span></td>      <td valign=\"top\" class=\"votelinks\"><center><a id='up_37019791'href='vote?id=37019791&amp;how=up&amp;goto=news'><div class='votearrow' title='upvote'></div></a></center></td><td class=\"title\"><span class=\"titleline\"><a href=\"https://www.complete.org/the-pc-internet-revolution-in-rural-america/\" rel=\"nofollow noreferrer\">The PC and Internet Revolution in Rural America</a><span class=\"sitebit comhead\"> (<a href=\"from?site=complete.org\"><span class=\"sitestr\">complete.org</span></a>)</span></span></td></tr><tr><td colspan=\"2\"></td><td class=\"subtext\"><span class=\"subline\">\n",
      "          <span class=\"score\" id=\"score_37019791\">4 points</span> by <a href=\"user?id=ecliptik\" class=\"hnuser\">ecliptik</a> <span class=\"age\" title=\"2023-08-06T07:42:25\"><a href=\"item?id=37019791\">1 hour ago</a></span> <span id=\"unv_37019791\"></span> | <a href=\"hide?id=37019791&amp;goto=news\">hide</a> | <a href=\"item?id=37019791\">discuss</a>        </span>\n",
      "              </td></tr>\n",
      "      <tr class=\"spacer\" style=\"height:5px\"></tr>\n",
      "                <tr class='athing' id='37045195'>\n",
      "      <td align=\"right\" valign=\"top\" class=\"title\"><span class=\"rank\">26.</span></td>      <td valign=\"top\" class=\"votelinks\"><center><a id='up_37045195'href='vote?id=37045195&amp;how=up&amp;goto=news'><div class='votearrow' title='upvote'></div></a></center></td><td class=\"title\"><span class=\"titleline\"><a href=\"https://www.washingtonpost.com/nation/2023/07/31/uber-self-driving-death-guilty/\" rel=\"noreferrer\">A self-driving Uber killed a woman. The backup driver pleaded guilty</a><span class=\"sitebit comhead\"> (<a href=\"from?site=washingtonpost.com\"><span class=\"sitestr\">washingtonpost.com</span></a>)</span></span></td></tr><tr><td colspan=\"2\"></td><td class=\"subtext\"><span class=\"subline\">\n",
      "          <span class=\"score\" id=\"score_37045195\">29 points</span> by <a href=\"user?id=thazework\" class=\"hnuser\">thazework</a> <span class=\"age\" title=\"2023-08-08T06:20:41\"><a href=\"item?id=37045195\">2 hours ago</a></span> <span id=\"unv_37045195\"></span> | <a href=\"hide?id=37045195&amp;goto=news\">hide</a> | <a href=\"item?id=37045195\">29&nbsp;comments</a>        </span>\n",
      "              </td></tr>\n",
      "      <tr class=\"spacer\" style=\"height:5px\"></tr>\n",
      "                <tr class='athing' id='37040747'>\n",
      "      <td align=\"right\" valign=\"top\" class=\"title\"><span class=\"rank\">27.</span></td>      <td valign=\"top\" class=\"votelinks\"><center><a id='up_37040747'href='vote?id=37040747&amp;how=up&amp;goto=news'><div class='votearrow' title='upvote'></div></a></center></td><td class=\"title\"><span class=\"titleline\"><a href=\"https://www.cisa.gov/news-events/alerts/2023/08/04/cisa-releases-its-cybersecurity-strategic-plan\" rel=\"noreferrer\">CISA Releases Its Cybersecurity Strategic Plan</a><span class=\"sitebit comhead\"> (<a href=\"from?site=cisa.gov\"><span class=\"sitestr\">cisa.gov</span></a>)</span></span></td></tr><tr><td colspan=\"2\"></td><td class=\"subtext\"><span class=\"subline\">\n",
      "          <span class=\"score\" id=\"score_37040747\">76 points</span> by <a href=\"user?id=freedude\" class=\"hnuser\">freedude</a> <span class=\"age\" title=\"2023-08-07T20:48:35\"><a href=\"item?id=37040747\">11 hours ago</a></span> <span id=\"unv_37040747\"></span> | <a href=\"hide?id=37040747&amp;goto=news\">hide</a> | <a href=\"item?id=37040747\">40&nbsp;comments</a>        </span>\n",
      "              </td></tr>\n",
      "      <tr class=\"spacer\" style=\"height:5px\"></tr>\n",
      "                <tr class='athing' id='37038053'>\n",
      "      <td align=\"right\" valign=\"top\" class=\"title\"><span class=\"rank\">28.</span></td>      <td valign=\"top\" class=\"votelinks\"><center><a id='up_37038053'href='vote?id=37038053&amp;how=up&amp;goto=news'><div class='votearrow' title='upvote'></div></a></center></td><td class=\"title\"><span class=\"titleline\"><a href=\"https://chainforge.ai/docs/\" rel=\"noreferrer\">Show HN: ChainForge, a visual tool for prompt engineering and LLM evaluation</a><span class=\"sitebit comhead\"> (<a href=\"from?site=chainforge.ai\"><span class=\"sitestr\">chainforge.ai</span></a>)</span></span></td></tr><tr><td colspan=\"2\"></td><td class=\"subtext\"><span class=\"subline\">\n",
      "          <span class=\"score\" id=\"score_37038053\">153 points</span> by <a href=\"user?id=fatso784\" class=\"hnuser\">fatso784</a> <span class=\"age\" title=\"2023-08-07T17:54:32\"><a href=\"item?id=37038053\">14 hours ago</a></span> <span id=\"unv_37038053\"></span> | <a href=\"hide?id=37038053&amp;goto=news\">hide</a> | <a href=\"item?id=37038053\">21&nbsp;comments</a>        </span>\n",
      "              </td></tr>\n",
      "      <tr class=\"spacer\" style=\"height:5px\"></tr>\n",
      "                <tr class='athing' id='37019862'>\n",
      "      <td align=\"right\" valign=\"top\" class=\"title\"><span class=\"rank\">29.</span></td>      <td valign=\"top\" class=\"votelinks\"><center><a id='up_37019862'href='vote?id=37019862&amp;how=up&amp;goto=news'><div class='votearrow' title='upvote'></div></a></center></td><td class=\"title\"><span class=\"titleline\"><a href=\"https://media.ccc.de/v/froscon2023-2950-the_year_of_linux_on_desktop_wmobile\" rel=\"noreferrer\">The year of Linux On Desktop^WMobile [video]</a><span class=\"sitebit comhead\"> (<a href=\"from?site=ccc.de\"><span class=\"sitestr\">ccc.de</span></a>)</span></span></td></tr><tr><td colspan=\"2\"></td><td class=\"subtext\"><span class=\"subline\">\n",
      "          <span class=\"score\" id=\"score_37019862\">47 points</span> by <a href=\"user?id=pabs3\" class=\"hnuser\">pabs3</a> <span class=\"age\" title=\"2023-08-06T07:57:48\"><a href=\"item?id=37019862\">10 hours ago</a></span> <span id=\"unv_37019862\"></span> | <a href=\"hide?id=37019862&amp;goto=news\">hide</a> | <a href=\"item?id=37019862\">34&nbsp;comments</a>        </span>\n",
      "              </td></tr>\n",
      "      <tr class=\"spacer\" style=\"height:5px\"></tr>\n",
      "                <tr class='athing' id='37010471'>\n",
      "      <td align=\"right\" valign=\"top\" class=\"title\"><span class=\"rank\">30.</span></td>      <td valign=\"top\" class=\"votelinks\"><center><a id='up_37010471'href='vote?id=37010471&amp;how=up&amp;goto=news'><div class='votearrow' title='upvote'></div></a></center></td><td class=\"title\"><span class=\"titleline\"><a href=\"https://lopespm.com/notes/2023/08/05/real_question_behind_what_you_want.html\" rel=\"noreferrer\">The Real Question Behind &#x27;What Do You Want?&#x27;</a><span class=\"sitebit comhead\"> (<a href=\"from?site=lopespm.com\"><span class=\"sitestr\">lopespm.com</span></a>)</span></span></td></tr><tr><td colspan=\"2\"></td><td class=\"subtext\"><span class=\"subline\">\n",
      "          <span class=\"score\" id=\"score_37010471\">33 points</span> by <a href=\"user?id=lopespm\" class=\"hnuser\">lopespm</a> <span class=\"age\" title=\"2023-08-05T09:42:32\"><a href=\"item?id=37010471\">7 hours ago</a></span> <span id=\"unv_37010471\"></span> | <a href=\"hide?id=37010471&amp;goto=news\">hide</a> | <a href=\"item?id=37010471\">12&nbsp;comments</a>        </span>\n",
      "              </td></tr>\n",
      "      <tr class=\"spacer\" style=\"height:5px\"></tr>\n",
      "            <tr class=\"morespace\" style=\"height:10px\"></tr><tr><td colspan=\"2\"></td>\n",
      "      <td class='title'><a href='?p=2' class='morelink' rel='next'>More</a></td>    </tr>\n",
      "  </table>\n",
      "</td></tr>\n",
      "<tr><td><img src=\"s.gif\" height=\"10\" width=\"0\"><table width=\"100%\" cellspacing=\"0\" cellpadding=\"1\"><tr><td bgcolor=\"#ff6600\"></td></tr></table><br>\n",
      "<center><span class=\"yclinks\"><a href=\"newsguidelines.html\">Guidelines</a> | <a href=\"newsfaq.html\">FAQ</a> | <a href=\"lists\">Lists</a> | <a href=\"https://github.com/HackerNews/API\">API</a> | <a href=\"security.html\">Security</a> | <a href=\"https://www.ycombinator.com/legal/\">Legal</a> | <a href=\"https://www.ycombinator.com/apply/\">Apply to YC</a> | <a href=\"mailto:hn@ycombinator.com\">Contact</a></span><br><br>\n",
      "<form method=\"get\" action=\"//hn.algolia.com/\">Search: <input type=\"text\" name=\"q\" size=\"17\" autocorrect=\"off\" spellcheck=\"false\" autocapitalize=\"off\" autocomplete=\"false\"></form></center></td></tr>      </table></center></body>\n",
      "      <script type='text/javascript' src='hn.js?CtBHyqNFP5b5B4B6W5uN'></script>\n",
      "  </html>\n",
      "\n"
     ]
    }
   ],
   "source": [
    "import requests\n",
    "\n",
    "# Fetch a web page\n",
    "r = requests.get(\"https://news.ycombinator.com\")\n",
    "print(r.text)"
   ]
  },
  {
   "cell_type": "code",
   "execution_count": 7,
   "metadata": {},
   "outputs": [
    {
     "name": "stdout",
     "output_type": "stream",
     "text": [
      "\n",
      "        \n",
      "          \n",
      "        Hacker News\n",
      "        \n",
      "                  Hacker News\n",
      "                            new | past | comments | ask | show | jobs | submit            \n",
      "                              login\n",
      "                          \n",
      "              \n",
      "\n",
      "            \n",
      "      1.      Run Firefox on ChromeOS (support.mozilla.org)\n",
      "          105 points by nateb2022 3 hours ago  | hide | 17&nbsp;comments        \n",
      "              \n",
      "      \n",
      "                \n",
      "      2.      The Alexander Piano (alexanderpiano.nz)\n",
      "          77 points by KolmogorovComp 4 hours ago  | hide | 16&nbsp;comments        \n",
      "              \n",
      "      \n",
      "                \n",
      "      3.      Malignant melanoma deploys elegant molecular mechanism to evade immune responses (columbia.edu)\n",
      "          154 points by geox 8 hours ago  | hide | 47&nbsp;comments        \n",
      "              \n",
      "      \n",
      "                \n",
      "      4.      Sheldon Brown&#x27;s Bicycle Technical Info (sheldonbrown.com)\n",
      "          97 points by thunderbong 6 hours ago  | hide | 27&nbsp;comments        \n",
      "              \n",
      "      \n",
      "                \n",
      "      5.      Noclip.website: A digital museum of video game levels (noclip.website)\n",
      "          73 points by mutant_glofish 5 hours ago  | hide | 11&nbsp;comments        \n",
      "              \n",
      "      \n",
      "                \n",
      "      6.      Raku: A language for gremlins (buttondown.email/hillelwayne)\n",
      "          302 points by azhenley 11 hours ago  | hide | 141&nbsp;comments        \n",
      "              \n",
      "      \n",
      "                \n",
      "      7.      Jim Keller and his pioneering work on chip design and architecture (edn.com)\n",
      "          35 points by xrayarx 3 hours ago  | hide | 10&nbsp;comments        \n",
      "              \n",
      "      \n",
      "                \n",
      "      8.      Ferromagnetic half levitation of LK-99-like synthetic samples (arxiv.org)\n",
      "          242 points by platz 6 hours ago  | hide | 177&nbsp;comments        \n",
      "              \n",
      "      \n",
      "                \n",
      "      9.      An SEO scam: $62k later (tinloof.com)\n",
      "          38 points by tbassetto 1 hour ago  | hide | 18&nbsp;comments        \n",
      "              \n",
      "      \n",
      "                \n",
      "      10.      The Importance of Being a Code Reviewer (medium.com/expedia-group-tech)\n",
      "          14 points by kiyanwang 2 hours ago  | hide | 10&nbsp;comments        \n",
      "              \n",
      "      \n",
      "                \n",
      "      11.      Lacros on Chromebooks transition plan won’t be quick (aboutchromebooks.com)\n",
      "          42 points by billybuckwheat 5 hours ago  | hide | 24&nbsp;comments        \n",
      "              \n",
      "      \n",
      "                \n",
      "      12.      Monitoring your logs is mostly a tarpit (utoronto.ca)\n",
      "          20 points by signa11 3 hours ago  | hide | 6&nbsp;comments        \n",
      "              \n",
      "      \n",
      "                \n",
      "      13.      Lithium morphology discovery could lead to safer lithium-metal batteries (phys.org)\n",
      "          171 points by wglb 12 hours ago  | hide | 30&nbsp;comments        \n",
      "              \n",
      "      \n",
      "                \n",
      "      14.      Theft of the Mona Lisa  (2000) (pbs.org)\n",
      "          51 points by geox 6 hours ago  | hide | 21&nbsp;comments        \n",
      "              \n",
      "      \n",
      "                \n",
      "      15.      A beginner&#x27;s guide to Git version control (redhat.com)\n",
      "          230 points by freedude 14 hours ago  | hide | 196&nbsp;comments        \n",
      "              \n",
      "      \n",
      "                \n",
      "      16.      Open-source canvas drawing web app, built using React (github.com/diogocapela)\n",
      "          196 points by capela 13 hours ago  | hide | 46&nbsp;comments        \n",
      "              \n",
      "      \n",
      "                \n",
      "      17.      Richard Scarry Collection: Archive.org (archive.org)\n",
      "          9 points by getwiththeprog 3 hours ago  | hide | 1&nbsp;comment        \n",
      "              \n",
      "      \n",
      "                \n",
      "      18.      Show HN: Doculite – Use SQLite as a Document Database (npmjs.com)\n",
      "          117 points by thenorthbay 12 hours ago  | hide | 34&nbsp;comments        \n",
      "              \n",
      "      \n",
      "                \n",
      "      19.      The combined power of F# and C# (steven-giesel.com)\n",
      "          184 points by freedude 14 hours ago  | hide | 171&nbsp;comments        \n",
      "              \n",
      "      \n",
      "                \n",
      "      20.      Launch HN: GitStart (YC S19) – Remote junior devs working on production PRs\n",
      "          186 points by hzia 19 hours ago  | hide | 165&nbsp;comments        \n",
      "              \n",
      "      \n",
      "                \n",
      "      21.             Etleap (YC W13) Is Hiring a Software Engineer (London – OR – San Francisco) (etleap.com)\n",
      "        7 hours ago | hide      \n",
      "      \n",
      "                \n",
      "      22.      Aeroflot deactivates brakes on nine aircraft, relies solely on reverse thrust (aeroxplorer.com)\n",
      "          193 points by nixass 14 hours ago  | hide | 270&nbsp;comments        \n",
      "              \n",
      "      \n",
      "                \n",
      "      23.      I would rather see my books get pirated than this (janefriedman.com)\n",
      "          474 points by ilamont 8 hours ago  | hide | 310&nbsp;comments        \n",
      "              \n",
      "      \n",
      "                \n",
      "      24.      Compiler Development: Rust or OCaml? (hirrolot.github.io)\n",
      "          133 points by bshanks 14 hours ago  | hide | 89&nbsp;comments        \n",
      "              \n",
      "      \n",
      "                \n",
      "      25.      The PC and Internet Revolution in Rural America (complete.org)\n",
      "          4 points by ecliptik 1 hour ago  | hide | discuss        \n",
      "              \n",
      "      \n",
      "                \n",
      "      26.      A self-driving Uber killed a woman. The backup driver pleaded guilty (washingtonpost.com)\n",
      "          29 points by thazework 2 hours ago  | hide | 29&nbsp;comments        \n",
      "              \n",
      "      \n",
      "                \n",
      "      27.      CISA Releases Its Cybersecurity Strategic Plan (cisa.gov)\n",
      "          76 points by freedude 11 hours ago  | hide | 40&nbsp;comments        \n",
      "              \n",
      "      \n",
      "                \n",
      "      28.      Show HN: ChainForge, a visual tool for prompt engineering and LLM evaluation (chainforge.ai)\n",
      "          153 points by fatso784 14 hours ago  | hide | 21&nbsp;comments        \n",
      "              \n",
      "      \n",
      "                \n",
      "      29.      The year of Linux On Desktop^WMobile [video] (ccc.de)\n",
      "          47 points by pabs3 10 hours ago  | hide | 34&nbsp;comments        \n",
      "              \n",
      "      \n",
      "                \n",
      "      30.      The Real Question Behind &#x27;What Do You Want?&#x27; (lopespm.com)\n",
      "          33 points by lopespm 7 hours ago  | hide | 12&nbsp;comments        \n",
      "              \n",
      "      \n",
      "            \n",
      "      More    \n",
      "  \n",
      "\n",
      "\n",
      "Guidelines | FAQ | Lists | API | Security | Legal | Apply to YC | Contact\n",
      "Search:       \n",
      "      \n",
      "  \n",
      "\n"
     ]
    }
   ],
   "source": [
    "import re\n",
    "\n",
    "# Remove HTML tags using RegEx\n",
    "pattern = re.compile(r'<.*?>')  # tags look like <...>\n",
    "print(pattern.sub('', r.text))  # replace them with blank"
   ]
  },
  {
   "cell_type": "code",
   "execution_count": 8,
   "metadata": {},
   "outputs": [
    {
     "name": "stdout",
     "output_type": "stream",
     "text": [
      "\n",
      "        \n",
      "          \n",
      "        Hacker News\n",
      "        \n",
      "                  Hacker News\n",
      "                            new | past | comments | ask | show | jobs | submit            \n",
      "                              login\n",
      "                          \n",
      "              \n",
      "\n",
      "            \n",
      "      1.      Run Firefox on ChromeOS (support.mozilla.org)\n",
      "          105 points by nateb2022 3 hours ago  | hide | 17 comments        \n",
      "              \n",
      "      \n",
      "                \n",
      "      2.      The Alexander Piano (alexanderpiano.nz)\n",
      "          77 points by KolmogorovComp 4 hours ago  | hide | 16 comments        \n",
      "              \n",
      "      \n",
      "                \n",
      "      3.      Malignant melanoma deploys elegant molecular mechanism to evade immune responses (columbia.edu)\n",
      "          154 points by geox 8 hours ago  | hide | 47 comments        \n",
      "              \n",
      "      \n",
      "                \n",
      "      4.      Sheldon Brown's Bicycle Technical Info (sheldonbrown.com)\n",
      "          97 points by thunderbong 6 hours ago  | hide | 27 comments        \n",
      "              \n",
      "      \n",
      "                \n",
      "      5.      Noclip.website: A digital museum of video game levels (noclip.website)\n",
      "          73 points by mutant_glofish 5 hours ago  | hide | 11 comments        \n",
      "              \n",
      "      \n",
      "                \n",
      "      6.      Raku: A language for gremlins (buttondown.email/hillelwayne)\n",
      "          302 points by azhenley 11 hours ago  | hide | 141 comments        \n",
      "              \n",
      "      \n",
      "                \n",
      "      7.      Jim Keller and his pioneering work on chip design and architecture (edn.com)\n",
      "          35 points by xrayarx 3 hours ago  | hide | 10 comments        \n",
      "              \n",
      "      \n",
      "                \n",
      "      8.      Ferromagnetic half levitation of LK-99-like synthetic samples (arxiv.org)\n",
      "          242 points by platz 6 hours ago  | hide | 177 comments        \n",
      "              \n",
      "      \n",
      "                \n",
      "      9.      An SEO scam: $62k later (tinloof.com)\n",
      "          38 points by tbassetto 1 hour ago  | hide | 18 comments        \n",
      "              \n",
      "      \n",
      "                \n",
      "      10.      The Importance of Being a Code Reviewer (medium.com/expedia-group-tech)\n",
      "          14 points by kiyanwang 2 hours ago  | hide | 10 comments        \n",
      "              \n",
      "      \n",
      "                \n",
      "      11.      Lacros on Chromebooks transition plan won’t be quick (aboutchromebooks.com)\n",
      "          42 points by billybuckwheat 5 hours ago  | hide | 24 comments        \n",
      "              \n",
      "      \n",
      "                \n",
      "      12.      Monitoring your logs is mostly a tarpit (utoronto.ca)\n",
      "          20 points by signa11 3 hours ago  | hide | 6 comments        \n",
      "              \n",
      "      \n",
      "                \n",
      "      13.      Lithium morphology discovery could lead to safer lithium-metal batteries (phys.org)\n",
      "          171 points by wglb 12 hours ago  | hide | 30 comments        \n",
      "              \n",
      "      \n",
      "                \n",
      "      14.      Theft of the Mona Lisa  (2000) (pbs.org)\n",
      "          51 points by geox 6 hours ago  | hide | 21 comments        \n",
      "              \n",
      "      \n",
      "                \n",
      "      15.      A beginner's guide to Git version control (redhat.com)\n",
      "          230 points by freedude 14 hours ago  | hide | 196 comments        \n",
      "              \n",
      "      \n",
      "                \n",
      "      16.      Open-source canvas drawing web app, built using React (github.com/diogocapela)\n",
      "          196 points by capela 13 hours ago  | hide | 46 comments        \n",
      "              \n",
      "      \n",
      "                \n",
      "      17.      Richard Scarry Collection: Archive.org (archive.org)\n",
      "          9 points by getwiththeprog 3 hours ago  | hide | 1 comment        \n",
      "              \n",
      "      \n",
      "                \n",
      "      18.      Show HN: Doculite – Use SQLite as a Document Database (npmjs.com)\n",
      "          117 points by thenorthbay 12 hours ago  | hide | 34 comments        \n",
      "              \n",
      "      \n",
      "                \n",
      "      19.      The combined power of F# and C# (steven-giesel.com)\n",
      "          184 points by freedude 14 hours ago  | hide | 171 comments        \n",
      "              \n",
      "      \n",
      "                \n",
      "      20.      Launch HN: GitStart (YC S19) – Remote junior devs working on production PRs\n",
      "          186 points by hzia 19 hours ago  | hide | 165 comments        \n",
      "              \n",
      "      \n",
      "                \n",
      "      21.             Etleap (YC W13) Is Hiring a Software Engineer (London – OR – San Francisco) (etleap.com)\n",
      "        7 hours ago | hide      \n",
      "      \n",
      "                \n",
      "      22.      Aeroflot deactivates brakes on nine aircraft, relies solely on reverse thrust (aeroxplorer.com)\n",
      "          193 points by nixass 14 hours ago  | hide | 270 comments        \n",
      "              \n",
      "      \n",
      "                \n",
      "      23.      I would rather see my books get pirated than this (janefriedman.com)\n",
      "          474 points by ilamont 8 hours ago  | hide | 310 comments        \n",
      "              \n",
      "      \n",
      "                \n",
      "      24.      Compiler Development: Rust or OCaml? (hirrolot.github.io)\n",
      "          133 points by bshanks 14 hours ago  | hide | 89 comments        \n",
      "              \n",
      "      \n",
      "                \n",
      "      25.      The PC and Internet Revolution in Rural America (complete.org)\n",
      "          4 points by ecliptik 1 hour ago  | hide | discuss        \n",
      "              \n",
      "      \n",
      "                \n",
      "      26.      A self-driving Uber killed a woman. The backup driver pleaded guilty (washingtonpost.com)\n",
      "          29 points by thazework 2 hours ago  | hide | 29 comments        \n",
      "              \n",
      "      \n",
      "                \n",
      "      27.      CISA Releases Its Cybersecurity Strategic Plan (cisa.gov)\n",
      "          76 points by freedude 11 hours ago  | hide | 40 comments        \n",
      "              \n",
      "      \n",
      "                \n",
      "      28.      Show HN: ChainForge, a visual tool for prompt engineering and LLM evaluation (chainforge.ai)\n",
      "          153 points by fatso784 14 hours ago  | hide | 21 comments        \n",
      "              \n",
      "      \n",
      "                \n",
      "      29.      The year of Linux On Desktop^WMobile [video] (ccc.de)\n",
      "          47 points by pabs3 10 hours ago  | hide | 34 comments        \n",
      "              \n",
      "      \n",
      "                \n",
      "      30.      The Real Question Behind 'What Do You Want?' (lopespm.com)\n",
      "          33 points by lopespm 7 hours ago  | hide | 12 comments        \n",
      "              \n",
      "      \n",
      "            \n",
      "      More    \n",
      "  \n",
      "\n",
      "\n",
      "Guidelines | FAQ | Lists | API | Security | Legal | Apply to YC | Contact\n",
      "Search:       \n",
      "      \n",
      "  \n",
      "\n"
     ]
    }
   ],
   "source": [
    "from bs4 import BeautifulSoup\n",
    "\n",
    "# Remove HTML tags using Beautiful Soup library\n",
    "soup = BeautifulSoup(r.text, \"html5lib\")\n",
    "print(soup.get_text())"
   ]
  },
  {
   "cell_type": "code",
   "execution_count": 9,
   "metadata": {
    "scrolled": true
   },
   "outputs": [
    {
     "data": {
      "text/plain": [
       "<tr class=\"athing\" id=\"37044625\">\n",
       "      <td align=\"right\" class=\"title\" valign=\"top\"><span class=\"rank\">1.</span></td>      <td class=\"votelinks\" valign=\"top\"><center><a href=\"vote?id=37044625&amp;how=up&amp;goto=news\" id=\"up_37044625\"><div class=\"votearrow\" title=\"upvote\"></div></a></center></td><td class=\"title\"><span class=\"titleline\"><a href=\"https://support.mozilla.org/en-US/kb/run-firefox-chromeos\" rel=\"noreferrer\">Run Firefox on ChromeOS</a><span class=\"sitebit comhead\"> (<a href=\"from?site=support.mozilla.org\"><span class=\"sitestr\">support.mozilla.org</span></a>)</span></span></td></tr>"
      ]
     },
     "execution_count": 9,
     "metadata": {},
     "output_type": "execute_result"
    }
   ],
   "source": [
    "# Find all articles\n",
    "summaries = soup.find_all(\"tr\", class_=\"athing\")\n",
    "summaries[0]"
   ]
  },
  {
   "cell_type": "code",
   "execution_count": 10,
   "metadata": {},
   "outputs": [
    {
     "ename": "AttributeError",
     "evalue": "'NoneType' object has no attribute 'get_text'",
     "output_type": "error",
     "traceback": [
      "\u001b[0;31m---------------------------------------------------------------------------\u001b[0m",
      "\u001b[0;31mAttributeError\u001b[0m                            Traceback (most recent call last)",
      "\u001b[0;32m<ipython-input-10-091ccb7bd111>\u001b[0m in \u001b[0;36m<module>\u001b[0;34m()\u001b[0m\n\u001b[1;32m      1\u001b[0m \u001b[0;31m# Extract title\u001b[0m\u001b[0;34m\u001b[0m\u001b[0;34m\u001b[0m\u001b[0m\n\u001b[0;32m----> 2\u001b[0;31m \u001b[0msummaries\u001b[0m\u001b[0;34m[\u001b[0m\u001b[0;36m0\u001b[0m\u001b[0;34m]\u001b[0m\u001b[0;34m.\u001b[0m\u001b[0mfind\u001b[0m\u001b[0;34m(\u001b[0m\u001b[0;34m\"a\"\u001b[0m\u001b[0;34m,\u001b[0m \u001b[0mclass_\u001b[0m\u001b[0;34m=\u001b[0m\u001b[0;34m\"storylink\"\u001b[0m\u001b[0;34m)\u001b[0m\u001b[0;34m.\u001b[0m\u001b[0mget_text\u001b[0m\u001b[0;34m(\u001b[0m\u001b[0;34m)\u001b[0m\u001b[0;34m.\u001b[0m\u001b[0mstrip\u001b[0m\u001b[0;34m(\u001b[0m\u001b[0;34m)\u001b[0m\u001b[0;34m\u001b[0m\u001b[0m\n\u001b[0m",
      "\u001b[0;31mAttributeError\u001b[0m: 'NoneType' object has no attribute 'get_text'"
     ]
    }
   ],
   "source": [
    "# Extract title\n",
    "summaries[0].find(\"a\", class_=\"storylink\").get_text().strip()"
   ]
  },
  {
   "cell_type": "code",
   "execution_count": 11,
   "metadata": {},
   "outputs": [
    {
     "ename": "AttributeError",
     "evalue": "'NoneType' object has no attribute 'get_text'",
     "output_type": "error",
     "traceback": [
      "\u001b[0;31m---------------------------------------------------------------------------\u001b[0m",
      "\u001b[0;31mAttributeError\u001b[0m                            Traceback (most recent call last)",
      "\u001b[0;32m<ipython-input-11-f9b60b26bb8f>\u001b[0m in \u001b[0;36m<module>\u001b[0;34m()\u001b[0m\n\u001b[1;32m      3\u001b[0m \u001b[0msummaries\u001b[0m \u001b[0;34m=\u001b[0m \u001b[0msoup\u001b[0m\u001b[0;34m.\u001b[0m\u001b[0mfind_all\u001b[0m\u001b[0;34m(\u001b[0m\u001b[0;34m\"tr\"\u001b[0m\u001b[0;34m,\u001b[0m \u001b[0mclass_\u001b[0m\u001b[0;34m=\u001b[0m\u001b[0;34m\"athing\"\u001b[0m\u001b[0;34m)\u001b[0m\u001b[0;34m\u001b[0m\u001b[0m\n\u001b[1;32m      4\u001b[0m \u001b[0;32mfor\u001b[0m \u001b[0msummary\u001b[0m \u001b[0;32min\u001b[0m \u001b[0msummaries\u001b[0m\u001b[0;34m:\u001b[0m\u001b[0;34m\u001b[0m\u001b[0m\n\u001b[0;32m----> 5\u001b[0;31m     \u001b[0mtitle\u001b[0m \u001b[0;34m=\u001b[0m \u001b[0msummary\u001b[0m\u001b[0;34m.\u001b[0m\u001b[0mfind\u001b[0m\u001b[0;34m(\u001b[0m\u001b[0;34m\"a\"\u001b[0m\u001b[0;34m,\u001b[0m \u001b[0mclass_\u001b[0m\u001b[0;34m=\u001b[0m\u001b[0;34m\"storylink\"\u001b[0m\u001b[0;34m)\u001b[0m\u001b[0;34m.\u001b[0m\u001b[0mget_text\u001b[0m\u001b[0;34m(\u001b[0m\u001b[0;34m)\u001b[0m\u001b[0;34m.\u001b[0m\u001b[0mstrip\u001b[0m\u001b[0;34m(\u001b[0m\u001b[0;34m)\u001b[0m\u001b[0;34m\u001b[0m\u001b[0m\n\u001b[0m\u001b[1;32m      6\u001b[0m     \u001b[0marticles\u001b[0m\u001b[0;34m.\u001b[0m\u001b[0mappend\u001b[0m\u001b[0;34m(\u001b[0m\u001b[0;34m(\u001b[0m\u001b[0mtitle\u001b[0m\u001b[0;34m)\u001b[0m\u001b[0;34m)\u001b[0m\u001b[0;34m\u001b[0m\u001b[0m\n\u001b[1;32m      7\u001b[0m \u001b[0;34m\u001b[0m\u001b[0m\n",
      "\u001b[0;31mAttributeError\u001b[0m: 'NoneType' object has no attribute 'get_text'"
     ]
    }
   ],
   "source": [
    "# Find all articles, extract titles\n",
    "articles = []\n",
    "summaries = soup.find_all(\"tr\", class_=\"athing\")\n",
    "for summary in summaries:\n",
    "    title = summary.find(\"a\", class_=\"storylink\").get_text().strip()\n",
    "    articles.append((title))\n",
    "\n",
    "print(len(articles), \"Article summaries found. Sample:\")\n",
    "print(articles[0])"
   ]
  },
  {
   "cell_type": "markdown",
   "metadata": {
    "collapsed": true
   },
   "source": [
    "## Normalization"
   ]
  },
  {
   "cell_type": "markdown",
   "metadata": {},
   "source": [
    "### Case Normalization"
   ]
  },
  {
   "cell_type": "code",
   "execution_count": 12,
   "metadata": {},
   "outputs": [
    {
     "name": "stdout",
     "output_type": "stream",
     "text": [
      "The first time you see The Second Renaissance it may look boring. Look at it at least twice and definitely watch part 2. It will change your view of the matrix. Are the human people the ones who started the war ? Is AI a bad thing ?\n"
     ]
    }
   ],
   "source": [
    "# Sample text\n",
    "text = \"The first time you see The Second Renaissance it may look boring. Look at it at least twice and definitely watch part 2. It will change your view of the matrix. Are the human people the ones who started the war ? Is AI a bad thing ?\"\n",
    "print(text)"
   ]
  },
  {
   "cell_type": "code",
   "execution_count": 13,
   "metadata": {},
   "outputs": [
    {
     "name": "stdout",
     "output_type": "stream",
     "text": [
      "the first time you see the second renaissance it may look boring. look at it at least twice and definitely watch part 2. it will change your view of the matrix. are the human people the ones who started the war ? is ai a bad thing ?\n"
     ]
    }
   ],
   "source": [
    "# Convert to lowercase\n",
    "text = text.lower() \n",
    "print(text)"
   ]
  },
  {
   "cell_type": "markdown",
   "metadata": {},
   "source": [
    "### Punctuation Removal"
   ]
  },
  {
   "cell_type": "code",
   "execution_count": 14,
   "metadata": {},
   "outputs": [
    {
     "name": "stdout",
     "output_type": "stream",
     "text": [
      "the first time you see the second renaissance it may look boring  look at it at least twice and definitely watch part 2  it will change your view of the matrix  are the human people the ones who started the war   is ai a bad thing  \n"
     ]
    }
   ],
   "source": [
    "import re\n",
    "\n",
    "# Remove punctuation characters\n",
    "text = re.sub(r\"[^a-zA-Z0-9]\", \" \", text) \n",
    "print(text)"
   ]
  },
  {
   "cell_type": "markdown",
   "metadata": {},
   "source": [
    "## Tokenization"
   ]
  },
  {
   "cell_type": "code",
   "execution_count": 15,
   "metadata": {},
   "outputs": [
    {
     "name": "stdout",
     "output_type": "stream",
     "text": [
      "['the', 'first', 'time', 'you', 'see', 'the', 'second', 'renaissance', 'it', 'may', 'look', 'boring', 'look', 'at', 'it', 'at', 'least', 'twice', 'and', 'definitely', 'watch', 'part', '2', 'it', 'will', 'change', 'your', 'view', 'of', 'the', 'matrix', 'are', 'the', 'human', 'people', 'the', 'ones', 'who', 'started', 'the', 'war', 'is', 'ai', 'a', 'bad', 'thing']\n"
     ]
    }
   ],
   "source": [
    "# Split text into tokens (words)\n",
    "words = text.split()\n",
    "print(words)"
   ]
  },
  {
   "cell_type": "markdown",
   "metadata": {},
   "source": [
    "### NLTK: Natural Language ToolKit"
   ]
  },
  {
   "cell_type": "code",
   "execution_count": 16,
   "metadata": {},
   "outputs": [],
   "source": [
    "import os\n",
    "import nltk\n",
    "nltk.data.path.append(os.path.join(os.getcwd(), \"nltk_data\"))"
   ]
  },
  {
   "cell_type": "code",
   "execution_count": 18,
   "metadata": {},
   "outputs": [
    {
     "name": "stdout",
     "output_type": "stream",
     "text": [
      "Dr. Smith graduated from the University of Washington. He later started an analytics firm called Lux, which catered to enterprise customers.\n"
     ]
    }
   ],
   "source": [
    "# Another sample text\n",
    "text = \"Dr. Smith graduated from the University of Washington. He later started an analytics firm called Lux, which catered to enterprise customers.\"\n",
    "print(text)"
   ]
  },
  {
   "cell_type": "code",
   "execution_count": 19,
   "metadata": {},
   "outputs": [
    {
     "name": "stdout",
     "output_type": "stream",
     "text": [
      "['Dr.', 'Smith', 'graduated', 'from', 'the', 'University', 'of', 'Washington', '.', 'He', 'later', 'started', 'an', 'analytics', 'firm', 'called', 'Lux', ',', 'which', 'catered', 'to', 'enterprise', 'customers', '.']\n"
     ]
    }
   ],
   "source": [
    "from nltk.tokenize import word_tokenize\n",
    "\n",
    "# Split text into words using NLTK\n",
    "words = word_tokenize(text)\n",
    "print(words)"
   ]
  },
  {
   "cell_type": "code",
   "execution_count": 20,
   "metadata": {},
   "outputs": [
    {
     "name": "stdout",
     "output_type": "stream",
     "text": [
      "['Dr. Smith graduated from the University of Washington.', 'He later started an analytics firm called Lux, which catered to enterprise customers.']\n"
     ]
    }
   ],
   "source": [
    "from nltk.tokenize import sent_tokenize\n",
    "\n",
    "# Split text into sentences\n",
    "sentences = sent_tokenize(text)\n",
    "print(sentences)"
   ]
  },
  {
   "cell_type": "code",
   "execution_count": 21,
   "metadata": {},
   "outputs": [
    {
     "name": "stdout",
     "output_type": "stream",
     "text": [
      "['i', 'me', 'my', 'myself', 'we', 'our', 'ours', 'ourselves', 'you', \"you're\", \"you've\", \"you'll\", \"you'd\", 'your', 'yours', 'yourself', 'yourselves', 'he', 'him', 'his', 'himself', 'she', \"she's\", 'her', 'hers', 'herself', 'it', \"it's\", 'its', 'itself', 'they', 'them', 'their', 'theirs', 'themselves', 'what', 'which', 'who', 'whom', 'this', 'that', \"that'll\", 'these', 'those', 'am', 'is', 'are', 'was', 'were', 'be', 'been', 'being', 'have', 'has', 'had', 'having', 'do', 'does', 'did', 'doing', 'a', 'an', 'the', 'and', 'but', 'if', 'or', 'because', 'as', 'until', 'while', 'of', 'at', 'by', 'for', 'with', 'about', 'against', 'between', 'into', 'through', 'during', 'before', 'after', 'above', 'below', 'to', 'from', 'up', 'down', 'in', 'out', 'on', 'off', 'over', 'under', 'again', 'further', 'then', 'once', 'here', 'there', 'when', 'where', 'why', 'how', 'all', 'any', 'both', 'each', 'few', 'more', 'most', 'other', 'some', 'such', 'no', 'nor', 'not', 'only', 'own', 'same', 'so', 'than', 'too', 'very', 's', 't', 'can', 'will', 'just', 'don', \"don't\", 'should', \"should've\", 'now', 'd', 'll', 'm', 'o', 're', 've', 'y', 'ain', 'aren', \"aren't\", 'couldn', \"couldn't\", 'didn', \"didn't\", 'doesn', \"doesn't\", 'hadn', \"hadn't\", 'hasn', \"hasn't\", 'haven', \"haven't\", 'isn', \"isn't\", 'ma', 'mightn', \"mightn't\", 'mustn', \"mustn't\", 'needn', \"needn't\", 'shan', \"shan't\", 'shouldn', \"shouldn't\", 'wasn', \"wasn't\", 'weren', \"weren't\", 'won', \"won't\", 'wouldn', \"wouldn't\"]\n"
     ]
    }
   ],
   "source": [
    "# List stop words\n",
    "from nltk.corpus import stopwords\n",
    "print(stopwords.words(\"english\"))"
   ]
  },
  {
   "cell_type": "code",
   "execution_count": 22,
   "metadata": {},
   "outputs": [
    {
     "name": "stdout",
     "output_type": "stream",
     "text": [
      "['the', 'first', 'time', 'you', 'see', 'the', 'second', 'renaissance', 'it', 'may', 'look', 'boring', 'look', 'at', 'it', 'at', 'least', 'twice', 'and', 'definitely', 'watch', 'part', '2', 'it', 'will', 'change', 'your', 'view', 'of', 'the', 'matrix', 'are', 'the', 'human', 'people', 'the', 'ones', 'who', 'started', 'the', 'war', 'is', 'ai', 'a', 'bad', 'thing']\n"
     ]
    }
   ],
   "source": [
    "# Reset text\n",
    "text = \"The first time you see The Second Renaissance it may look boring. Look at it at least twice and definitely watch part 2. It will change your view of the matrix. Are the human people the ones who started the war ? Is AI a bad thing ?\"\n",
    "\n",
    "# Normalize it\n",
    "text = re.sub(r\"[^a-zA-Z0-9]\", \" \", text.lower())\n",
    "\n",
    "# Tokenize it\n",
    "words = text.split()\n",
    "print(words)"
   ]
  },
  {
   "cell_type": "code",
   "execution_count": 23,
   "metadata": {},
   "outputs": [
    {
     "name": "stdout",
     "output_type": "stream",
     "text": [
      "['first', 'time', 'see', 'second', 'renaissance', 'may', 'look', 'boring', 'look', 'least', 'twice', 'definitely', 'watch', 'part', '2', 'change', 'view', 'matrix', 'human', 'people', 'ones', 'started', 'war', 'ai', 'bad', 'thing']\n"
     ]
    }
   ],
   "source": [
    "# Remove stop words\n",
    "words = [w for w in words if w not in stopwords.words(\"english\")]\n",
    "print(words)"
   ]
  },
  {
   "cell_type": "markdown",
   "metadata": {},
   "source": [
    "### Sentence Parsing"
   ]
  },
  {
   "cell_type": "code",
   "execution_count": 24,
   "metadata": {},
   "outputs": [
    {
     "name": "stdout",
     "output_type": "stream",
     "text": [
      "(S\n",
      "  (NP I)\n",
      "  (VP\n",
      "    (VP (V shot) (NP (Det an) (N elephant)))\n",
      "    (PP (P in) (NP (Det my) (N pajamas)))))\n",
      "(S\n",
      "  (NP I)\n",
      "  (VP\n",
      "    (V shot)\n",
      "    (NP (Det an) (N elephant) (PP (P in) (NP (Det my) (N pajamas))))))\n"
     ]
    }
   ],
   "source": [
    "import nltk\n",
    "\n",
    "# Define a custom grammar\n",
    "my_grammar = nltk.CFG.fromstring(\"\"\"\n",
    "S -> NP VP\n",
    "PP -> P NP\n",
    "NP -> Det N | Det N PP | 'I'\n",
    "VP -> V NP | VP PP\n",
    "Det -> 'an' | 'my'\n",
    "N -> 'elephant' | 'pajamas'\n",
    "V -> 'shot'\n",
    "P -> 'in'\n",
    "\"\"\")\n",
    "parser = nltk.ChartParser(my_grammar)\n",
    "\n",
    "# Parse a sentence\n",
    "sentence = word_tokenize(\"I shot an elephant in my pajamas\")\n",
    "for tree in parser.parse(sentence):\n",
    "    print(tree)"
   ]
  },
  {
   "cell_type": "markdown",
   "metadata": {},
   "source": [
    "## Stemming & Lemmatization\n",
    "\n",
    "### Stemming"
   ]
  },
  {
   "cell_type": "code",
   "execution_count": 25,
   "metadata": {},
   "outputs": [
    {
     "name": "stdout",
     "output_type": "stream",
     "text": [
      "['first', 'time', 'see', 'second', 'renaiss', 'may', 'look', 'bore', 'look', 'least', 'twice', 'definit', 'watch', 'part', '2', 'chang', 'view', 'matrix', 'human', 'peopl', 'one', 'start', 'war', 'ai', 'bad', 'thing']\n"
     ]
    }
   ],
   "source": [
    "from nltk.stem.porter import PorterStemmer\n",
    "\n",
    "# Reduce words to their stems\n",
    "stemmed = [PorterStemmer().stem(w) for w in words]\n",
    "print(stemmed)"
   ]
  },
  {
   "cell_type": "markdown",
   "metadata": {},
   "source": [
    "### Lemmatization"
   ]
  },
  {
   "cell_type": "code",
   "execution_count": 26,
   "metadata": {},
   "outputs": [
    {
     "name": "stdout",
     "output_type": "stream",
     "text": [
      "['first', 'time', 'see', 'second', 'renaissance', 'may', 'look', 'boring', 'look', 'least', 'twice', 'definitely', 'watch', 'part', '2', 'change', 'view', 'matrix', 'human', 'people', 'one', 'started', 'war', 'ai', 'bad', 'thing']\n"
     ]
    }
   ],
   "source": [
    "from nltk.stem.wordnet import WordNetLemmatizer\n",
    "\n",
    "# Reduce words to their root form\n",
    "lemmed = [WordNetLemmatizer().lemmatize(w) for w in words]\n",
    "print(lemmed)"
   ]
  },
  {
   "cell_type": "code",
   "execution_count": 27,
   "metadata": {},
   "outputs": [
    {
     "name": "stdout",
     "output_type": "stream",
     "text": [
      "['first', 'time', 'see', 'second', 'renaissance', 'may', 'look', 'bore', 'look', 'least', 'twice', 'definitely', 'watch', 'part', '2', 'change', 'view', 'matrix', 'human', 'people', 'one', 'start', 'war', 'ai', 'bad', 'thing']\n"
     ]
    }
   ],
   "source": [
    "# Lemmatize verbs by specifying pos\n",
    "lemmed = [WordNetLemmatizer().lemmatize(w, pos='v') for w in lemmed]\n",
    "print(lemmed)"
   ]
  },
  {
   "cell_type": "code",
   "execution_count": null,
   "metadata": {},
   "outputs": [],
   "source": []
  }
 ],
 "metadata": {
  "kernelspec": {
   "display_name": "Python 3",
   "language": "python",
   "name": "python3"
  },
  "language_info": {
   "codemirror_mode": {
    "name": "ipython",
    "version": 3
   },
   "file_extension": ".py",
   "mimetype": "text/x-python",
   "name": "python",
   "nbconvert_exporter": "python",
   "pygments_lexer": "ipython3",
   "version": "3.6.3"
  }
 },
 "nbformat": 4,
 "nbformat_minor": 2
}
